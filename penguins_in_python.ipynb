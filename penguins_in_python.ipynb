{
 "cells": [
  {
   "cell_type": "markdown",
   "id": "7758e288",
   "metadata": {},
   "source": [
    "# Python assignment & Collaboration with Dr X\n",
    "\n",
    "Note: I recieved good advice from Beulah in working through this assignment. She was very helpful and I appreciate her assistance. \n"
   ]
  },
  {
   "cell_type": "markdown",
   "id": "8639f144",
   "metadata": {},
   "source": [
    "# First import all the essential packages \n",
    "Biopython is essential to run the following codes. If it is not installed on your device, please install it now. "
   ]
  },
  {
   "cell_type": "code",
   "execution_count": 53,
   "id": "ee2ec5b1",
   "metadata": {},
   "outputs": [
    {
     "name": "stdout",
     "output_type": "stream",
     "text": [
      "Collecting package metadata (current_repodata.json): done\n",
      "Solving environment: done\n",
      "\n",
      "# All requested packages already installed.\n",
      "\n",
      "\n",
      "Note: you may need to restart the kernel to use updated packages.\n"
     ]
    }
   ],
   "source": [
    "conda install biopython"
   ]
  },
  {
   "cell_type": "code",
   "execution_count": 54,
   "id": "4eb3215a",
   "metadata": {},
   "outputs": [],
   "source": [
    "import pandas as pd\n",
    "import Bio\n",
    "import seaborn as sns\n",
    "import matplotlib.pyplot as plt\n",
    "from Bio.Data import CodonTable\n",
    "from Bio import SeqIO\n",
    "from Bio.SeqRecord import SeqRecord \n",
    "from Bio.SeqUtils import GC\n",
    "from Bio.SeqUtils.ProtParam import ProteinAnalysis"
   ]
  },
  {
   "cell_type": "markdown",
   "id": "fb683192",
   "metadata": {},
   "source": [
    "We will create three objects: \n",
    "\n",
    "cytb_seqs : the sequences for each penguin species\n",
    "\n",
    "pen_mass: A small dataframe including only penguin species and body mass\n",
    "\n",
    "pen_species: Just a list of penguin species taken from the pen_mass dataframe"
   ]
  },
  {
   "cell_type": "code",
   "execution_count": 55,
   "id": "bf29c605",
   "metadata": {},
   "outputs": [],
   "source": [
    "cytb_seqs = SeqIO.parse('penguins_cytb.fasta', 'fasta') #this reads the \"penguins_cytb.fasta\" into an object called \"cytb_seqs\"\n",
    "#cytb_seqs = get_sequences_from_file(\"penguins_cytb.fasta\") #we read the sequences from the \"penguins_cytb.fasta\" into cytb_seqs"
   ]
  },
  {
   "cell_type": "code",
   "execution_count": 56,
   "id": "5aa99fd2",
   "metadata": {},
   "outputs": [],
   "source": [
    "pen_mass = pd.read_csv(\"penguins_mass.csv\") # Includes only data for body mass \n",
    "pen_species = list(pen_mass.species) # list the different species of penguins"
   ]
  },
  {
   "cell_type": "code",
   "execution_count": 57,
   "id": "71a4d33f",
   "metadata": {},
   "outputs": [
    {
     "name": "stdout",
     "output_type": "stream",
     "text": [
      "AB026282\n",
      "AB026282 Aptenodytes forsteri mitochondrial gene for cytochrome b, complete cds, haplotype:a\n",
      "Seq('ATGGCCCCAAATCTCCGAAAATCCCATCCCCTCCTAAAAATAATTAATAACTCC...TAA')\n",
      "1143\n",
      "AF076044\n",
      "AF076044 Aptenodytes patagonicus cytochrome b (cytb) gene, mitochondrial gene encoding mitochondrial protein, complete cds\n",
      "Seq('ATGGCCCCAAACCTCCGAAAATCCCATCCTCTCCTAAAAATAATTAATAACTCC...TAA')\n",
      "1143\n",
      "AF076051\n",
      "AF076051 Eudyptes chrysocome cytochrome b (cytb) gene, mitochondrial gene encoding mitochondrial protein, complete cds\n",
      "Seq('ATGGCCCCCAACCTCCGAAAATCCCACCCCCTCCTAAAAACAATCAATAACTCC...TAA')\n",
      "1143\n",
      "AF076052\n",
      "AF076052 Eudyptes chrysolophus cytochrome b (cytb) gene, mitochondrial gene encoding mitochondrial protein, complete cds\n",
      "Seq('ATGGCCCCCAACCTCCGAAAATCCCACCCCCTCCTAAAAACAATCAATAACTCC...TAA')\n",
      "1143\n",
      "AB026277\n",
      "AB026277 Eudyptes sclateri mitochondrial gene for cytochrome b, complete cds\n",
      "Seq('ATGGCCCCCAACCTCCGAAAATCCCACCCCCTCCTAAAAACAATCAATAACTCC...TAA')\n",
      "1143\n",
      "AB026278\n",
      "AB026278 Eudyptula minor mitochondrial gene for cytochrome b, complete cds\n",
      "Seq('ATGGCCCCCAACCTCCGAAAATCTCACCCCCTCCTAAAAATAATCAACAACTCT...TAA')\n",
      "1143\n",
      "AB066603\n",
      "AB066603 Pygoscelis adeliae mitochondrial gene for cytochrome b, complete cds, haplotype:c\n",
      "Seq('ATGGCCCCCAACCTCCGAAAATCCCACCCTCTCCTAAAAATAATTAACAACTCC...TAA')\n",
      "1143\n",
      "AF076089\n",
      "AF076089 Pygoscelis antarctica cytochrome b (cytb) gene, mitochondrial gene encoding mitochondrial protein, complete cds\n",
      "Seq('ATGGCCCCCAACCTCCGAAAATCCCACCCTCTCCTAAAAATAATCAACAACTCC...TAG')\n",
      "1143\n",
      "AF076090\n",
      "AF076090 Pygoscelis papua cytochrome b (cytb) gene, mitochondrial gene encoding mitochondrial protein, complete cds\n",
      "Seq('ATGGCCCCCAACCTTCGAAAATCCCACCCTCTCCTAAAAATAATCAACAAATCC...TAG')\n",
      "1143\n",
      "AB026269\n",
      "AB026269 Spheniscus demersus mitochondrial gene for cytochrome b, complete cds\n",
      "Seq('ATGGCCCCCAACCTCCGAAAATCCCACCCTCTCCTAAAAACAATCAACAACTCC...TAA')\n",
      "1143\n",
      "AB026271\n",
      "AB026271 Spheniscus humboldti mitochondrial gene for cytochrome b, complete cds, haplotype:a\n",
      "Seq('ATGGCCCCCAACCTCCGAAAATCCCACCCTCTCCTAAAAACAATCAACAACTCC...TAA')\n",
      "1143\n",
      "AB026270\n",
      "AB026270 Spheniscus magellanicus mitochondrial gene for cytochrome b, complete cds\n",
      "Seq('ATGGCCCCCAACCTCCGAAAATCCCACCCTCTCCTAAAAACAATCAACAACTCC...TAA')\n",
      "1143\n"
     ]
    }
   ],
   "source": [
    "for cytb_seqs in SeqIO.parse('penguins_cytb.fasta', 'fasta'): #print the seq ID, description, part of the sequence and length\n",
    "    print(cytb_seqs.id)  \n",
    "    print(cytb_seqs.description)\n",
    "    print(repr(cytb_seqs.seq)) \n",
    "    print(len(cytb_seqs)) "
   ]
  },
  {
   "cell_type": "markdown",
   "id": "0132a3a0",
   "metadata": {},
   "source": [
    "## Next, let's take a closer look at the fasta data which we are working with.\n",
    "\n"
   ]
  },
  {
   "cell_type": "code",
   "execution_count": 58,
   "id": "ae7b24d0",
   "metadata": {
    "scrolled": true
   },
   "outputs": [
    {
     "name": "stdout",
     "output_type": "stream",
     "text": [
      "AB026282\n",
      "Seq('ATGGCCCCAAATCTCCGAAAATCCCATCCCCTCCTAAAAATAATTAATAACTCC...TAA')\n",
      "AF076044\n",
      "Seq('ATGGCCCCAAACCTCCGAAAATCCCATCCTCTCCTAAAAATAATTAATAACTCC...TAA')\n",
      "AF076051\n",
      "Seq('ATGGCCCCCAACCTCCGAAAATCCCACCCCCTCCTAAAAACAATCAATAACTCC...TAA')\n",
      "AF076052\n",
      "Seq('ATGGCCCCCAACCTCCGAAAATCCCACCCCCTCCTAAAAACAATCAATAACTCC...TAA')\n",
      "AB026277\n",
      "Seq('ATGGCCCCCAACCTCCGAAAATCCCACCCCCTCCTAAAAACAATCAATAACTCC...TAA')\n",
      "AB026278\n",
      "Seq('ATGGCCCCCAACCTCCGAAAATCTCACCCCCTCCTAAAAATAATCAACAACTCT...TAA')\n",
      "AB066603\n",
      "Seq('ATGGCCCCCAACCTCCGAAAATCCCACCCTCTCCTAAAAATAATTAACAACTCC...TAA')\n",
      "AF076089\n",
      "Seq('ATGGCCCCCAACCTCCGAAAATCCCACCCTCTCCTAAAAATAATCAACAACTCC...TAG')\n",
      "AF076090\n",
      "Seq('ATGGCCCCCAACCTTCGAAAATCCCACCCTCTCCTAAAAATAATCAACAAATCC...TAG')\n",
      "AB026269\n",
      "Seq('ATGGCCCCCAACCTCCGAAAATCCCACCCTCTCCTAAAAACAATCAACAACTCC...TAA')\n",
      "AB026271\n",
      "Seq('ATGGCCCCCAACCTCCGAAAATCCCACCCTCTCCTAAAAACAATCAACAACTCC...TAA')\n",
      "AB026270\n",
      "Seq('ATGGCCCCCAACCTCCGAAAATCCCACCCTCTCCTAAAAACAATCAACAACTCC...TAA')\n"
     ]
    }
   ],
   "source": [
    "for cytb_seqs in SeqIO.parse('penguins_cytb.fasta', 'fasta'):\n",
    "    #the above line reads the original penguins_cytb.fasta file in fasta format using the SeqIO package. \n",
    "    print(cytb_seqs.id)  #From that fasta file, print the 'ID'\n",
    "    print(repr(cytb_seqs.seq)) #and print the 'seq', so we can see what we have. "
   ]
  },
  {
   "cell_type": "markdown",
   "id": "abdf7bcd",
   "metadata": {},
   "source": [
    "Then read the \"mito_table\" from the CodonTable object provided by BioPython. Let's take a look at it as well. This object will be used for a future function and is also a generally educational object for reference. "
   ]
  },
  {
   "cell_type": "code",
   "execution_count": 59,
   "id": "48ff5380",
   "metadata": {},
   "outputs": [
    {
     "name": "stdout",
     "output_type": "stream",
     "text": [
      "Table 2 Vertebrate Mitochondrial, SGC1\n",
      "\n",
      "  |  T      |  C      |  A      |  G      |\n",
      "--+---------+---------+---------+---------+--\n",
      "T | TTT F   | TCT S   | TAT Y   | TGT C   | T\n",
      "T | TTC F   | TCC S   | TAC Y   | TGC C   | C\n",
      "T | TTA L   | TCA S   | TAA Stop| TGA W   | A\n",
      "T | TTG L   | TCG S   | TAG Stop| TGG W   | G\n",
      "--+---------+---------+---------+---------+--\n",
      "C | CTT L   | CCT P   | CAT H   | CGT R   | T\n",
      "C | CTC L   | CCC P   | CAC H   | CGC R   | C\n",
      "C | CTA L   | CCA P   | CAA Q   | CGA R   | A\n",
      "C | CTG L   | CCG P   | CAG Q   | CGG R   | G\n",
      "--+---------+---------+---------+---------+--\n",
      "A | ATT I(s)| ACT T   | AAT N   | AGT S   | T\n",
      "A | ATC I(s)| ACC T   | AAC N   | AGC S   | C\n",
      "A | ATA M(s)| ACA T   | AAA K   | AGA Stop| A\n",
      "A | ATG M(s)| ACG T   | AAG K   | AGG Stop| G\n",
      "--+---------+---------+---------+---------+--\n",
      "G | GTT V   | GCT A   | GAT D   | GGT G   | T\n",
      "G | GTC V   | GCC A   | GAC D   | GGC G   | C\n",
      "G | GTA V   | GCA A   | GAA E   | GGA G   | A\n",
      "G | GTG V(s)| GCG A   | GAG E   | GGG G   | G\n",
      "--+---------+---------+---------+---------+--\n"
     ]
    }
   ],
   "source": [
    "mito_table = CodonTable.unambiguous_dna_by_name[\"Vertebrate Mitochondrial\"]\n",
    "#this finds a CodonTable from Biopython and reads part of it into our mito_table object\n",
    "print(mito_table) #prints the table "
   ]
  },
  {
   "cell_type": "markdown",
   "id": "655b3839",
   "metadata": {},
   "source": [
    "# 1 Sequence retrieval function\n",
    "This function is essential for moving forward with the project. We will use it to locate the sequences from our fasta file and return them to a data dictionary. "
   ]
  },
  {
   "cell_type": "code",
   "execution_count": 60,
   "id": "c45fb4f5",
   "metadata": {},
   "outputs": [],
   "source": [
    "def get_sequences_from_file(fasta_fn): #this is the function title, which we will call later when we need to use it\n",
    "    sequence_data_dict = {} #the function will output a sequence data dictionary\n",
    "    for record in SeqIO.parse(fasta_fn, \"fasta\"):#use the fasta function on a fasta-format file\n",
    "        description = record.description.split()\n",
    "        species_name = description[1] + \" \" + description[2]\n",
    "        sequence_data_dict[species_name] = record.seq\n",
    "    return(sequence_data_dict)#when we run this function, it will return a data dictionary"
   ]
  },
  {
   "cell_type": "markdown",
   "id": "85ffede3",
   "metadata": {},
   "source": [
    "# 2 \"Translate string\" function\n",
    "This function translates nuculeotide sequences to amino acids. We will break the string of nucleotides into three-nucleotide chunks, which are then translated into amino acids. "
   ]
  },
  {
   "cell_type": "code",
   "execution_count": 61,
   "id": "72b93269",
   "metadata": {},
   "outputs": [],
   "source": [
    "def translate_function(string_nuc): #the following code defines the translate function\n",
    "    mito_table = CodonTable.unambiguous_dna_by_name[\"Vertebrate Mitochondrial\"] #use the mito_table as a codon key\n",
    "    aa_string = [] # create a blank list where we will put the amino acids\n",
    "    for nuc in range(0, len(string_nuc),3): \n",
    "        codon = string_nuc[nuc:nuc +3] #Break it into 3-nucleotide peices\n",
    "        \n",
    "        if codon == 'AGA' or codon == 'AGG'  or codon == 'TAA' or codon == 'TAG':\n",
    "            break # Break the line if you encounter a stop codon\n",
    "        else: #but if you don't find a stop codon:\n",
    "            aa = mito_table.forward_table[codon] #take the amino acid from the mito_table\n",
    "            aa_string.append(aa) # and append it to the aa string       \n",
    "       \n",
    "    return \"\".join(aa_string) #After doing all this, return the amino acid string"
   ]
  },
  {
   "cell_type": "markdown",
   "id": "906468d6",
   "metadata": {},
   "source": [
    "# 3 Alternative \"translate string\" function\n",
    "This function goes about translating nucleotide strings to amino acid sequences. \n",
    "This code is credit: https://biopython.org/wiki/ProtParam"
   ]
  },
  {
   "cell_type": "code",
   "execution_count": 62,
   "id": "23fa67fc",
   "metadata": {},
   "outputs": [
    {
     "data": {
      "text/plain": [
       "{'A': 0,\n",
       " 'C': 0,\n",
       " 'D': 0,\n",
       " 'E': 0,\n",
       " 'F': 0,\n",
       " 'G': 0,\n",
       " 'H': 0,\n",
       " 'I': 0,\n",
       " 'K': 0,\n",
       " 'L': 0,\n",
       " 'M': 0,\n",
       " 'N': 0,\n",
       " 'P': 0,\n",
       " 'Q': 0,\n",
       " 'R': 0,\n",
       " 'S': 1,\n",
       " 'T': 0,\n",
       " 'V': 0,\n",
       " 'W': 0,\n",
       " 'Y': 0}"
      ]
     },
     "execution_count": 62,
     "metadata": {},
     "output_type": "execute_result"
    }
   ],
   "source": [
    "seq1 = 'cytb_seqs.Seq' #make an object out of the \"Seq\" line of our cytb_seqs fasta object. \n",
    "my_seq = ( seq1     #feed the object into the object specified by the biopython function\n",
    " )\n",
    "analysed_seq = ProteinAnalysis(my_seq) #perform the \"ProteinAnalysis\" on the my_seq objet\n",
    "                                        #and feed results into \"analysed_seq\" object\n",
    "analysed_seq.count_amino_acids() #count number of amino acids in the \"analysed_seq\" object"
   ]
  },
  {
   "cell_type": "markdown",
   "id": "b29f4ae5",
   "metadata": {},
   "source": [
    "This code is actually quite useful. We now have the actual count of all the amino acids in our nucleotide sequences from the \"cytb_seqs\" object. "
   ]
  },
  {
   "cell_type": "markdown",
   "id": "31db7cd3",
   "metadata": {},
   "source": [
    "# 4 Molecular weight function\n",
    "This function uses code taken from the Bio.SeqUtils.ProtParam module to calculate amino acid's molecular weight. "
   ]
  },
  {
   "cell_type": "code",
   "execution_count": 63,
   "id": "e4743614",
   "metadata": {},
   "outputs": [],
   "source": [
    "def compute_molecular_weight(aa_seq):#define the compute_molecular_weight function\n",
    "    mol_weight = ProteinAnalysis(aa_seq).molecular_weight()\n",
    "    #The molecular weight taken from the aa_seq using the ProteinAnalysis function. \n",
    "    return mol_weight #after computing, it returns molecular weight"
   ]
  },
  {
   "cell_type": "markdown",
   "id": "3f5401c8",
   "metadata": {},
   "source": [
    "# 5 GC Content function\n",
    "\n",
    "This function calculates and returns the percent GC content of each sequence. "
   ]
  },
  {
   "cell_type": "code",
   "execution_count": 64,
   "id": "a13f816c",
   "metadata": {},
   "outputs": [],
   "source": [
    "def GC_content(cytb_seqs): #the following code works with the GC_content of the cytb_seqs object\n",
    "    count = 0 #begin the count at 0\n",
    "    for base in cytb_seqs:\n",
    "        if base == 'G' or base == 'C':\n",
    "            count+=1 #Count up one whenever encountering a G or C\n",
    "    perce = count/len(cytb_seqs)*100 # calculate the percent GC content\n",
    "    \n",
    "    return (perce)\n"
   ]
  },
  {
   "cell_type": "markdown",
   "id": "7fb02d8b",
   "metadata": {},
   "source": [
    "# 6 Add molecular weight and GC content\n",
    "Next step is to make a couple of new, empty columns in a new version of the pen_mass dataframe so that the GC content and molecular weight have a place to go."
   ]
  },
  {
   "cell_type": "code",
   "execution_count": 65,
   "id": "dd193217",
   "metadata": {},
   "outputs": [
    {
     "data": {
      "text/html": [
       "<div>\n",
       "<style scoped>\n",
       "    .dataframe tbody tr th:only-of-type {\n",
       "        vertical-align: middle;\n",
       "    }\n",
       "\n",
       "    .dataframe tbody tr th {\n",
       "        vertical-align: top;\n",
       "    }\n",
       "\n",
       "    .dataframe thead th {\n",
       "        text-align: right;\n",
       "    }\n",
       "</style>\n",
       "<table border=\"1\" class=\"dataframe\">\n",
       "  <thead>\n",
       "    <tr style=\"text-align: right;\">\n",
       "      <th></th>\n",
       "      <th>species</th>\n",
       "      <th>mass</th>\n",
       "    </tr>\n",
       "  </thead>\n",
       "  <tbody>\n",
       "    <tr>\n",
       "      <th>0</th>\n",
       "      <td>Aptenodytes forsteri</td>\n",
       "      <td>28.00</td>\n",
       "    </tr>\n",
       "    <tr>\n",
       "      <th>1</th>\n",
       "      <td>Aptenodytes patagonicus</td>\n",
       "      <td>13.40</td>\n",
       "    </tr>\n",
       "    <tr>\n",
       "      <th>2</th>\n",
       "      <td>Eudyptes chrysocome</td>\n",
       "      <td>2.80</td>\n",
       "    </tr>\n",
       "    <tr>\n",
       "      <th>3</th>\n",
       "      <td>Eudyptes chrysolophus</td>\n",
       "      <td>4.50</td>\n",
       "    </tr>\n",
       "    <tr>\n",
       "      <th>4</th>\n",
       "      <td>Eudyptes sclateri</td>\n",
       "      <td>4.25</td>\n",
       "    </tr>\n",
       "    <tr>\n",
       "      <th>5</th>\n",
       "      <td>Eudyptula minor</td>\n",
       "      <td>1.60</td>\n",
       "    </tr>\n",
       "    <tr>\n",
       "      <th>6</th>\n",
       "      <td>Pygoscelis adeliae</td>\n",
       "      <td>4.60</td>\n",
       "    </tr>\n",
       "    <tr>\n",
       "      <th>7</th>\n",
       "      <td>Pygoscelis antarctica</td>\n",
       "      <td>4.10</td>\n",
       "    </tr>\n",
       "    <tr>\n",
       "      <th>8</th>\n",
       "      <td>Pygoscelis papua</td>\n",
       "      <td>6.10</td>\n",
       "    </tr>\n",
       "    <tr>\n",
       "      <th>9</th>\n",
       "      <td>Spheniscus demersus</td>\n",
       "      <td>3.20</td>\n",
       "    </tr>\n",
       "    <tr>\n",
       "      <th>10</th>\n",
       "      <td>Spheniscus humboldti</td>\n",
       "      <td>4.75</td>\n",
       "    </tr>\n",
       "    <tr>\n",
       "      <th>11</th>\n",
       "      <td>Spheniscus magellanicus</td>\n",
       "      <td>3.40</td>\n",
       "    </tr>\n",
       "  </tbody>\n",
       "</table>\n",
       "</div>"
      ],
      "text/plain": [
       "                    species   mass\n",
       "0      Aptenodytes forsteri  28.00\n",
       "1   Aptenodytes patagonicus  13.40\n",
       "2       Eudyptes chrysocome   2.80\n",
       "3     Eudyptes chrysolophus   4.50\n",
       "4         Eudyptes sclateri   4.25\n",
       "5           Eudyptula minor   1.60\n",
       "6        Pygoscelis adeliae   4.60\n",
       "7     Pygoscelis antarctica   4.10\n",
       "8          Pygoscelis papua   6.10\n",
       "9       Spheniscus demersus   3.20\n",
       "10     Spheniscus humboldti   4.75\n",
       "11  Spheniscus magellanicus   3.40"
      ]
     },
     "execution_count": 65,
     "metadata": {},
     "output_type": "execute_result"
    }
   ],
   "source": [
    "pen_mass # view the dataframe "
   ]
  },
  {
   "cell_type": "code",
   "execution_count": 66,
   "id": "05849b98",
   "metadata": {},
   "outputs": [],
   "source": [
    "pen_percent = pen_mass.assign(molecular_weight = 'NaN', GC_content='NaN') #make a new dataframe: pen_percent\n",
    "#this code makes a molecular_weight and a GC_content column and populates them with \"NaN\" \n",
    "#to indicate that they are intentionally empty. "
   ]
  },
  {
   "cell_type": "code",
   "execution_count": 67,
   "id": "c28daa4a",
   "metadata": {},
   "outputs": [
    {
     "data": {
      "text/html": [
       "<div>\n",
       "<style scoped>\n",
       "    .dataframe tbody tr th:only-of-type {\n",
       "        vertical-align: middle;\n",
       "    }\n",
       "\n",
       "    .dataframe tbody tr th {\n",
       "        vertical-align: top;\n",
       "    }\n",
       "\n",
       "    .dataframe thead th {\n",
       "        text-align: right;\n",
       "    }\n",
       "</style>\n",
       "<table border=\"1\" class=\"dataframe\">\n",
       "  <thead>\n",
       "    <tr style=\"text-align: right;\">\n",
       "      <th></th>\n",
       "      <th>species</th>\n",
       "      <th>mass</th>\n",
       "      <th>molecular_weight</th>\n",
       "      <th>GC_content</th>\n",
       "    </tr>\n",
       "  </thead>\n",
       "  <tbody>\n",
       "    <tr>\n",
       "      <th>0</th>\n",
       "      <td>Aptenodytes forsteri</td>\n",
       "      <td>28.00</td>\n",
       "      <td>NaN</td>\n",
       "      <td>NaN</td>\n",
       "    </tr>\n",
       "    <tr>\n",
       "      <th>1</th>\n",
       "      <td>Aptenodytes patagonicus</td>\n",
       "      <td>13.40</td>\n",
       "      <td>NaN</td>\n",
       "      <td>NaN</td>\n",
       "    </tr>\n",
       "    <tr>\n",
       "      <th>2</th>\n",
       "      <td>Eudyptes chrysocome</td>\n",
       "      <td>2.80</td>\n",
       "      <td>NaN</td>\n",
       "      <td>NaN</td>\n",
       "    </tr>\n",
       "    <tr>\n",
       "      <th>3</th>\n",
       "      <td>Eudyptes chrysolophus</td>\n",
       "      <td>4.50</td>\n",
       "      <td>NaN</td>\n",
       "      <td>NaN</td>\n",
       "    </tr>\n",
       "    <tr>\n",
       "      <th>4</th>\n",
       "      <td>Eudyptes sclateri</td>\n",
       "      <td>4.25</td>\n",
       "      <td>NaN</td>\n",
       "      <td>NaN</td>\n",
       "    </tr>\n",
       "    <tr>\n",
       "      <th>5</th>\n",
       "      <td>Eudyptula minor</td>\n",
       "      <td>1.60</td>\n",
       "      <td>NaN</td>\n",
       "      <td>NaN</td>\n",
       "    </tr>\n",
       "    <tr>\n",
       "      <th>6</th>\n",
       "      <td>Pygoscelis adeliae</td>\n",
       "      <td>4.60</td>\n",
       "      <td>NaN</td>\n",
       "      <td>NaN</td>\n",
       "    </tr>\n",
       "    <tr>\n",
       "      <th>7</th>\n",
       "      <td>Pygoscelis antarctica</td>\n",
       "      <td>4.10</td>\n",
       "      <td>NaN</td>\n",
       "      <td>NaN</td>\n",
       "    </tr>\n",
       "    <tr>\n",
       "      <th>8</th>\n",
       "      <td>Pygoscelis papua</td>\n",
       "      <td>6.10</td>\n",
       "      <td>NaN</td>\n",
       "      <td>NaN</td>\n",
       "    </tr>\n",
       "    <tr>\n",
       "      <th>9</th>\n",
       "      <td>Spheniscus demersus</td>\n",
       "      <td>3.20</td>\n",
       "      <td>NaN</td>\n",
       "      <td>NaN</td>\n",
       "    </tr>\n",
       "    <tr>\n",
       "      <th>10</th>\n",
       "      <td>Spheniscus humboldti</td>\n",
       "      <td>4.75</td>\n",
       "      <td>NaN</td>\n",
       "      <td>NaN</td>\n",
       "    </tr>\n",
       "    <tr>\n",
       "      <th>11</th>\n",
       "      <td>Spheniscus magellanicus</td>\n",
       "      <td>3.40</td>\n",
       "      <td>NaN</td>\n",
       "      <td>NaN</td>\n",
       "    </tr>\n",
       "  </tbody>\n",
       "</table>\n",
       "</div>"
      ],
      "text/plain": [
       "                    species   mass molecular_weight GC_content\n",
       "0      Aptenodytes forsteri  28.00              NaN        NaN\n",
       "1   Aptenodytes patagonicus  13.40              NaN        NaN\n",
       "2       Eudyptes chrysocome   2.80              NaN        NaN\n",
       "3     Eudyptes chrysolophus   4.50              NaN        NaN\n",
       "4         Eudyptes sclateri   4.25              NaN        NaN\n",
       "5           Eudyptula minor   1.60              NaN        NaN\n",
       "6        Pygoscelis adeliae   4.60              NaN        NaN\n",
       "7     Pygoscelis antarctica   4.10              NaN        NaN\n",
       "8          Pygoscelis papua   6.10              NaN        NaN\n",
       "9       Spheniscus demersus   3.20              NaN        NaN\n",
       "10     Spheniscus humboldti   4.75              NaN        NaN\n",
       "11  Spheniscus magellanicus   3.40              NaN        NaN"
      ]
     },
     "execution_count": 67,
     "metadata": {},
     "output_type": "execute_result"
    }
   ],
   "source": [
    "pen_percent #view the new dataframe (pen_percent)"
   ]
  },
  {
   "cell_type": "markdown",
   "id": "b9953e4b",
   "metadata": {},
   "source": [
    "# 7 GC content and molecular weight for-loop\n",
    "Next we write a for-loop which loops through the nucleotide sequence of each species and computes both the percent GC content for the entire sequence, and the molecular weight for each amino acid. "
   ]
  },
  {
   "cell_type": "code",
   "execution_count": 68,
   "id": "af741add",
   "metadata": {},
   "outputs": [],
   "source": [
    "cytb_seqs = get_sequences_from_file(\"penguins_cytb.fasta\") #make sure we are working with the sequences from\n",
    "                                                            #the original fasta file. \n",
    "\n",
    "for key, value in cytb_seqs.items(): \n",
    "    aa_seq = translate_function(value)\n",
    "    molecular_weight = compute_molecular_weight(aa_seq)\n",
    "    GC_perce = GC_content(value)\n",
    "    \n",
    "    for index, row in pen_percent.iterrows():\n",
    "        if row['species'] == key:\n",
    "            pen_percent.loc[index, 'molecular_weight'] = molecular_weight\n",
    "            pen_percent.loc[index, 'GC_content'] = GC_perce\n",
    "            "
   ]
  },
  {
   "cell_type": "markdown",
   "id": "34cccce3",
   "metadata": {},
   "source": [
    "Now pen_percent contains a column (GC_content) which contains the percent GC content of each species's sequence. Take a moment to view pen_percent:"
   ]
  },
  {
   "cell_type": "code",
   "execution_count": 69,
   "id": "68792959",
   "metadata": {},
   "outputs": [
    {
     "data": {
      "text/html": [
       "<div>\n",
       "<style scoped>\n",
       "    .dataframe tbody tr th:only-of-type {\n",
       "        vertical-align: middle;\n",
       "    }\n",
       "\n",
       "    .dataframe tbody tr th {\n",
       "        vertical-align: top;\n",
       "    }\n",
       "\n",
       "    .dataframe thead th {\n",
       "        text-align: right;\n",
       "    }\n",
       "</style>\n",
       "<table border=\"1\" class=\"dataframe\">\n",
       "  <thead>\n",
       "    <tr style=\"text-align: right;\">\n",
       "      <th></th>\n",
       "      <th>species</th>\n",
       "      <th>mass</th>\n",
       "      <th>molecular_weight</th>\n",
       "      <th>GC_content</th>\n",
       "    </tr>\n",
       "  </thead>\n",
       "  <tbody>\n",
       "    <tr>\n",
       "      <th>0</th>\n",
       "      <td>Aptenodytes forsteri</td>\n",
       "      <td>28.00</td>\n",
       "      <td>42459.6021</td>\n",
       "      <td>48.381452</td>\n",
       "    </tr>\n",
       "    <tr>\n",
       "      <th>1</th>\n",
       "      <td>Aptenodytes patagonicus</td>\n",
       "      <td>13.40</td>\n",
       "      <td>42563.7067</td>\n",
       "      <td>49.693788</td>\n",
       "    </tr>\n",
       "    <tr>\n",
       "      <th>2</th>\n",
       "      <td>Eudyptes chrysocome</td>\n",
       "      <td>2.80</td>\n",
       "      <td>42475.5753</td>\n",
       "      <td>51.181102</td>\n",
       "    </tr>\n",
       "    <tr>\n",
       "      <th>3</th>\n",
       "      <td>Eudyptes chrysolophus</td>\n",
       "      <td>4.50</td>\n",
       "      <td>42445.5493</td>\n",
       "      <td>50.918635</td>\n",
       "    </tr>\n",
       "    <tr>\n",
       "      <th>4</th>\n",
       "      <td>Eudyptes sclateri</td>\n",
       "      <td>4.25</td>\n",
       "      <td>42475.5753</td>\n",
       "      <td>50.831146</td>\n",
       "    </tr>\n",
       "    <tr>\n",
       "      <th>5</th>\n",
       "      <td>Eudyptula minor</td>\n",
       "      <td>1.60</td>\n",
       "      <td>42491.6408</td>\n",
       "      <td>49.256343</td>\n",
       "    </tr>\n",
       "    <tr>\n",
       "      <th>6</th>\n",
       "      <td>Pygoscelis adeliae</td>\n",
       "      <td>4.60</td>\n",
       "      <td>42458.614</td>\n",
       "      <td>49.081365</td>\n",
       "    </tr>\n",
       "    <tr>\n",
       "      <th>7</th>\n",
       "      <td>Pygoscelis antarctica</td>\n",
       "      <td>4.10</td>\n",
       "      <td>42404.5423</td>\n",
       "      <td>47.769029</td>\n",
       "    </tr>\n",
       "    <tr>\n",
       "      <th>8</th>\n",
       "      <td>Pygoscelis papua</td>\n",
       "      <td>6.10</td>\n",
       "      <td>42595.8759</td>\n",
       "      <td>47.156605</td>\n",
       "    </tr>\n",
       "    <tr>\n",
       "      <th>9</th>\n",
       "      <td>Spheniscus demersus</td>\n",
       "      <td>3.20</td>\n",
       "      <td>42431.549</td>\n",
       "      <td>48.293963</td>\n",
       "    </tr>\n",
       "    <tr>\n",
       "      <th>10</th>\n",
       "      <td>Spheniscus humboldti</td>\n",
       "      <td>4.75</td>\n",
       "      <td>42399.552</td>\n",
       "      <td>49.256343</td>\n",
       "    </tr>\n",
       "    <tr>\n",
       "      <th>11</th>\n",
       "      <td>Spheniscus magellanicus</td>\n",
       "      <td>3.40</td>\n",
       "      <td>42459.6021</td>\n",
       "      <td>48.206474</td>\n",
       "    </tr>\n",
       "  </tbody>\n",
       "</table>\n",
       "</div>"
      ],
      "text/plain": [
       "                    species   mass molecular_weight GC_content\n",
       "0      Aptenodytes forsteri  28.00       42459.6021  48.381452\n",
       "1   Aptenodytes patagonicus  13.40       42563.7067  49.693788\n",
       "2       Eudyptes chrysocome   2.80       42475.5753  51.181102\n",
       "3     Eudyptes chrysolophus   4.50       42445.5493  50.918635\n",
       "4         Eudyptes sclateri   4.25       42475.5753  50.831146\n",
       "5           Eudyptula minor   1.60       42491.6408  49.256343\n",
       "6        Pygoscelis adeliae   4.60        42458.614  49.081365\n",
       "7     Pygoscelis antarctica   4.10       42404.5423  47.769029\n",
       "8          Pygoscelis papua   6.10       42595.8759  47.156605\n",
       "9       Spheniscus demersus   3.20        42431.549  48.293963\n",
       "10     Spheniscus humboldti   4.75        42399.552  49.256343\n",
       "11  Spheniscus magellanicus   3.40       42459.6021  48.206474"
      ]
     },
     "execution_count": 69,
     "metadata": {},
     "output_type": "execute_result"
    }
   ],
   "source": [
    "pen_percent"
   ]
  },
  {
   "cell_type": "markdown",
   "id": "1f8b43f6",
   "metadata": {},
   "source": [
    "# 8 Mass by species bar chart \n",
    "Now lets's visualize some of our results. First, make a bar chart representing the mass of each species. "
   ]
  },
  {
   "cell_type": "code",
   "execution_count": 70,
   "id": "08dc4973",
   "metadata": {},
   "outputs": [],
   "source": [
    "plot_dims = (14, 9) #set the dimensions of the plot "
   ]
  },
  {
   "cell_type": "code",
   "execution_count": 71,
   "id": "b2d07460",
   "metadata": {},
   "outputs": [
    {
     "data": {
      "text/plain": [
       "<seaborn.axisgrid.FacetGrid at 0x7f80d87d3ee0>"
      ]
     },
     "execution_count": 71,
     "metadata": {},
     "output_type": "execute_result"
    },
    {
     "data": {
      "image/png": "[encoded data removed]",
      "text/plain": [
       "<Figure size 1080x360 with 1 Axes>"
      ]
     },
     "metadata": {
      "needs_background": "light"
     },
     "output_type": "display_data"
    }
   ],
   "source": [
    "species_mass = sns.catplot(data=pen_percent, x=\"species\", y=\"mass\", kind=\"bar\", aspect=3, palette=\"viridis\").set(title='Mass by Species')\n",
    "#species will be plotted on x axis, mass on y axis. This is a bar chart with colors taken from the viridis palette. \n",
    "species_mass.set_xticklabels(rotation=60)#puts the x axis labels at an angle for readability \n",
    "#The label rotation code was sourced from https://www.geeksforgeeks.org/rotate-axis-tick-labels-in-seaborn-and-matplotlib/"
   ]
  },
  {
   "cell_type": "markdown",
   "id": "f83dac3c",
   "metadata": {},
   "source": [
    "The smallest of our penguin species is \"Eudyptula minor\". This penguin is found in New Zealand, parts of Austrailia, and possibly in Chile. The common name is \"little blue penguin\". "
   ]
  },
  {
   "cell_type": "markdown",
   "id": "f246ef83",
   "metadata": {},
   "source": [
    "# 9  Plot of molecular weight by GC content\n",
    "Finally, we will plot the molecular weight by GC content. This is interesting to see how the GC content and molecular weight of each amino acid relate to each other. \n",
    "This code is based off: https://www.geeksforgeeks.org/plotting-graph-using-seaborn-python/"
   ]
  },
  {
   "cell_type": "code",
   "execution_count": 72,
   "id": "dc822788",
   "metadata": {},
   "outputs": [
    {
     "name": "stderr",
     "output_type": "stream",
     "text": [
      "/Users/gcarey1/opt/anaconda3/lib/python3.9/site-packages/seaborn/_decorators.py:36: FutureWarning: Pass the following variables as keyword args: x, y. From version 0.12, the only valid positional argument will be `data`, and passing other arguments without an explicit keyword will result in an error or misinterpretation.\n",
      "  warnings.warn(\n"
     ]
    },
    {
     "data": {
      "text/plain": [
       "[Text(0, 0, '47.15660542432196'),\n",
       " Text(1, 0, '47.76902887139108'),\n",
       " Text(2, 0, '48.20647419072616'),\n",
       " Text(3, 0, '48.29396325459317'),\n",
       " Text(4, 0, '48.38145231846019'),\n",
       " Text(5, 0, '49.08136482939632'),\n",
       " Text(6, 0, '49.256342957130364'),\n",
       " Text(7, 0, '49.69378827646544'),\n",
       " Text(8, 0, '50.83114610673666'),\n",
       " Text(9, 0, '50.91863517060368'),\n",
       " Text(10, 0, '51.181102362204726')]"
      ]
     },
     "execution_count": 72,
     "metadata": {},
     "output_type": "execute_result"
    },
    {
     "data": {
      "image/png": "[encoded data removed]",
      "text/plain": [
       "<Figure size 432x288 with 1 Axes>"
      ]
     },
     "metadata": {
      "needs_background": "light"
     },
     "output_type": "display_data"
    }
   ],
   "source": [
    "x = pen_percent.GC_content\n",
    "y = pen_percent.molecular_weight\n",
    "ax = sns.stripplot(x, y);\n",
    "ax.set(xlabel = 'GC_content', ylabel ='Molecular_weight')\n",
    "plt.title('Molecular Weight by GC Content');\n",
    "ax.set_xticklabels(ax.get_xticklabels(), rotation=30, ha=\"right\")"
   ]
  },
  {
   "cell_type": "markdown",
   "id": "b1d0cd24",
   "metadata": {},
   "source": [
    "# 10 Export the new dataframe to a csv\n",
    "The next step is to take our dataframe which now has GC content and molecular weight and export it to a csv. The csv will be named \"penguin_final.csv\". "
   ]
  },
  {
   "cell_type": "code",
   "execution_count": 73,
   "id": "4ca25901",
   "metadata": {},
   "outputs": [],
   "source": [
    "pen_percent.to_csv(\"penguin_final.csv\", index = False) #This outputs our penguin file to a csv titled \"penguin_final.csv\""
   ]
  },
  {
   "cell_type": "markdown",
   "id": "3a9c7b2b",
   "metadata": {},
   "source": [
    "This concludes our collaboration, Dr X. I look forward to future projects.  "
   ]
  },
  {
   "cell_type": "code",
   "execution_count": null,
   "id": "2db011e4",
   "metadata": {},
   "outputs": [],
   "source": []
  },
  {
   "cell_type": "code",
   "execution_count": null,
   "id": "b24cbdd4",
   "metadata": {},
   "outputs": [],
   "source": []
  }
 ],
 "metadata": {
  "kernelspec": {
   "display_name": "Python 3 (ipykernel)",
   "language": "python",
   "name": "python3"
  },
  "language_info": {
   "codemirror_mode": {
    "name": "ipython",
    "version": 3
   },
   "file_extension": ".py",
   "mimetype": "text/x-python",
   "name": "python",
   "nbconvert_exporter": "python",
   "pygments_lexer": "ipython3",
   "version": "3.9.7"
  }
 },
 "nbformat": 4,
 "nbformat_minor": 5
}
